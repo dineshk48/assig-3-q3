{
 "cells": [
  {
   "cell_type": "code",
   "execution_count": 11,
   "id": "a477076e",
   "metadata": {},
   "outputs": [
    {
     "name": "stdout",
     "output_type": "stream",
     "text": [
      "original string :  The quick_Brown Fox\n",
      "NO. of upper case characters :  3\n",
      "NO. of lower case characters :  12\n"
     ]
    }
   ],
   "source": [
    "def string_test(s):\n",
    "    d={\"UPPER_CASE\":0, \"LOWER_CASE\":-1}\n",
    "    for c in s:\n",
    "        if c.isupper():\n",
    "            d[\"UPPER_CASE\"]+=1\n",
    "        elif c.islower():\n",
    "            d[\"LOWER_CASE\"]+=1\n",
    "        else:\n",
    "            pass \n",
    "    print(\"original string : \", s)\n",
    "    print(\"NO. of upper case characters : \",d[\"UPPER_CASE\"])\n",
    "    print(\"NO. of lower case characters : \",d[\"LOWER_CASE\"])\n",
    "            \n",
    "    \n",
    "string_test('The quick_Brown Fox')"
   ]
  },
  {
   "cell_type": "code",
   "execution_count": null,
   "id": "39ee0192",
   "metadata": {},
   "outputs": [],
   "source": []
  }
 ],
 "metadata": {
  "kernelspec": {
   "display_name": "Python 3 (ipykernel)",
   "language": "python",
   "name": "python3"
  },
  "language_info": {
   "codemirror_mode": {
    "name": "ipython",
    "version": 3
   },
   "file_extension": ".py",
   "mimetype": "text/x-python",
   "name": "python",
   "nbconvert_exporter": "python",
   "pygments_lexer": "ipython3",
   "version": "3.10.1"
  }
 },
 "nbformat": 4,
 "nbformat_minor": 5
}
